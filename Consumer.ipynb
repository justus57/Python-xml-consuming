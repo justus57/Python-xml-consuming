{
 "cells": [
  {
   "cell_type": "code",
   "execution_count": 2,
   "metadata": {},
   "outputs": [
    {
     "name": "stdout",
     "output_type": "stream",
     "text": [
      "*****Model*****\n",
      "Model number: ST001\n",
      "Price: 35000\n",
      "Quantity: 12\n",
      "Company: Samsung\n",
      "*****Model*****\n",
      "Model number: RW345\n",
      "Price: 46500\n",
      "Quantity: 14\n",
      "Company: Onida\n",
      "*****Model*****\n",
      "Model number: EX366\n",
      "Price: 30000\n",
      "Quantity: 8\n",
      "Company: Lenovo\n",
      "*****Model*****\n",
      "Model number: FU699\n",
      "Price: 45000\n",
      "Quantity: 12\n",
      "Company: Acer\n"
     ]
    }
   ],
   "source": [
    "import xml.sax\n",
    "\n",
    "class XMLHandler(xml.sax.ContentHandler):\n",
    "    def __init__(self):\n",
    "        self.CurrentData = \"\"\n",
    "        self.price = \"\"\n",
    "        self.qty = \"\"\n",
    "        self.company = \"\"\n",
    "\n",
    "   # Call when an element starts\n",
    "    def startElement(self, tag, attributes):\n",
    "        self.CurrentData = tag\n",
    "        if(tag == \"model\"):\n",
    "            print(\"*****Model*****\")\n",
    "            title = attributes[\"number\"]\n",
    "            print(\"Model number:\", title)\n",
    "\n",
    "   # Call when an elements ends\n",
    "    def endElement(self, tag):\n",
    "        if(self.CurrentData == \"price\"):\n",
    "            print(\"Price:\", self.price)\n",
    "        elif(self.CurrentData == \"qty\"):\n",
    "            print(\"Quantity:\", self.qty)\n",
    "        elif(self.CurrentData == \"company\"):\n",
    "            print(\"Company:\", self.company)\n",
    "        self.CurrentData = \"\"\n",
    "\n",
    "   # Call when a character is read\n",
    "    def characters(self, content):\n",
    "        if(self.CurrentData == \"price\"):\n",
    "            self.price = content\n",
    "        elif(self.CurrentData == \"qty\"):\n",
    "            self.qty = content\n",
    "        elif(self.CurrentData == \"company\"):\n",
    "            self.company = content\n",
    "\n",
    "# create an XMLReader\n",
    "parser = xml.sax.make_parser()\n",
    "\n",
    "# turn off namepsaces\n",
    "parser.setFeature(xml.sax.handler.feature_namespaces, 0)\n",
    "\n",
    "# override the default ContextHandler\n",
    "Handler = XMLHandler()\n",
    "parser.setContentHandler( Handler )\n",
    "parser.parse(\"models.xml\")"
   ]
  }
 ],
 "metadata": {
  "interpreter": {
   "hash": "57baa5815c940fdaff4d14510622de9616cae602444507ba5d0b6727c008cbd6"
  },
  "kernelspec": {
   "display_name": "Python 3.7.8 64-bit",
   "language": "python",
   "name": "python3"
  },
  "language_info": {
   "codemirror_mode": {
    "name": "ipython",
    "version": 3
   },
   "file_extension": ".py",
   "mimetype": "text/x-python",
   "name": "python",
   "nbconvert_exporter": "python",
   "pygments_lexer": "ipython3",
   "version": "3.7.8"
  },
  "orig_nbformat": 4
 },
 "nbformat": 4,
 "nbformat_minor": 2
}
